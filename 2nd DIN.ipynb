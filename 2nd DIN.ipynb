{
  "nbformat": 4,
  "nbformat_minor": 0,
  "metadata": {
    "colab": {
      "provenance": [],
      "authorship_tag": "ABX9TyNPnRrFDcvX/A6BcS67R4Sv",
      "include_colab_link": true
    },
    "kernelspec": {
      "name": "python3",
      "display_name": "Python 3"
    },
    "language_info": {
      "name": "python"
    }
  },
  "cells": [
    {
      "cell_type": "markdown",
      "metadata": {
        "id": "view-in-github",
        "colab_type": "text"
      },
      "source": [
        "<a href=\"https://colab.research.google.com/github/Aashish9hub/AASHISH/blob/main/2nd%20DIN.ipynb\" target=\"_parent\"><img src=\"https://colab.research.google.com/assets/colab-badge.svg\" alt=\"Open In Colab\"/></a>"
      ]
    },
    {
      "cell_type": "code",
      "execution_count": 1,
      "metadata": {
        "colab": {
          "base_uri": "https://localhost:8080/"
        },
        "id": "Aykt65oVryqZ",
        "outputId": "a171b3d8-6166-4c7b-bdcd-f24627992fc9"
      },
      "outputs": [
        {
          "output_type": "stream",
          "name": "stdout",
          "text": [
            "Hello this is Tensor flow\n"
          ]
        }
      ],
      "source": [
        "import tensorflow as tf\n",
        "hi=tf.constant(\"Hello this is Tensor flow\")\n",
        "print(hi.numpy().decode('utf-8'))\n"
      ]
    },
    {
      "cell_type": "code",
      "source": [
        "import tensorflow as tf\n",
        "a=tf.constant(10)\n",
        "b=tf.constant(20)\n",
        "#perform on basic operations using tensor framework\n",
        "add=tf.add(a,b)\n",
        "print(\"addition is: {add.numpy()}\")"
      ],
      "metadata": {
        "colab": {
          "base_uri": "https://localhost:8080/"
        },
        "id": "39p0gwdisdSO",
        "outputId": "ada68328-71f2-41c5-958a-7e57fc7183b6"
      },
      "execution_count": 2,
      "outputs": [
        {
          "output_type": "stream",
          "name": "stdout",
          "text": [
            "addition is: {add.numpy()}\n"
          ]
        }
      ]
    },
    {
      "cell_type": "code",
      "source": [
        "import tensorflow as tf\n",
        "a=tf.constant(10)\n",
        "b=tf.constant(20)\n",
        "#perform on basic operations using tensor framework\n",
        "add=tf.add(a,b)\n",
        "sub=tf.subtract(a,b)\n",
        "\n",
        "print(f\"addition is: {add.numpy()}\")\n",
        "print(f\"Subtraction is:{sub.numpy()}\")"
      ],
      "metadata": {
        "colab": {
          "base_uri": "https://localhost:8080/"
        },
        "id": "Tp1_zXnktuDz",
        "outputId": "60e5bd6c-7e1e-4d99-afc9-258e7eef007e"
      },
      "execution_count": 3,
      "outputs": [
        {
          "output_type": "stream",
          "name": "stdout",
          "text": [
            "addition is: 30\n",
            "Subtraction is:-10\n"
          ]
        }
      ]
    },
    {
      "cell_type": "code",
      "source": [
        "import tensorflow as tf\n",
        "a=tf.constant(10)\n",
        "b=tf.constant(20)\n",
        "#perform on basic operations using tensor framework\n",
        "add=tf.add(a,b)\n",
        "sub=tf.subtract(a,b)\n",
        "mul=tf.multiply(a,b)\n",
        "div=tf.divide(a,b)\n",
        "print(f\"addition is: {add.numpy()}\")\n",
        "print(f\"Subtraction is:{sub.numpy()}\")\n",
        "print(f\"Multiplication is:{mul.numpy()}\")\n",
        "print(f\"division is:{div.numpy()}\")"
      ],
      "metadata": {
        "colab": {
          "base_uri": "https://localhost:8080/"
        },
        "id": "I5WgPV3muJgk",
        "outputId": "4c26ba02-faa1-42c4-d322-ca69117cf26c"
      },
      "execution_count": 4,
      "outputs": [
        {
          "output_type": "stream",
          "name": "stdout",
          "text": [
            "addition is: 30\n",
            "Subtraction is:-10\n",
            "Multiplication is:200\n",
            "division is:0.5\n"
          ]
        }
      ]
    },
    {
      "cell_type": "code",
      "source": [
        "import tensorflow as tf\n",
        "tensor1=tf.constant([[1,2],[3,4]])\n",
        "tensor2=tf.constant([[5,6],[7,8]])\n",
        "#matrix multiplication using tensor\n",
        "result=tf.matmul(tensor1,tensor2)\n",
        "print(result)"
      ],
      "metadata": {
        "colab": {
          "base_uri": "https://localhost:8080/"
        },
        "id": "nvPPbndBuiqn",
        "outputId": "26bd08de-bece-4eb1-f037-6437f13e37b1"
      },
      "execution_count": 5,
      "outputs": [
        {
          "output_type": "stream",
          "name": "stdout",
          "text": [
            "tf.Tensor(\n",
            "[[19 22]\n",
            " [43 50]], shape=(2, 2), dtype=int32)\n"
          ]
        }
      ]
    },
    {
      "cell_type": "code",
      "source": [
        "import tensorflow as tf\n",
        "tensor1=tf.constant([[1,2],[3,4]])\n",
        "tensor2=tf.constant([[5,6],[7,8]])\n",
        "#matrix multiplication using tensor\n",
        "result=tf.matmul(tensor1,tensor2)\n",
        "print(result)"
      ],
      "metadata": {
        "colab": {
          "base_uri": "https://localhost:8080/"
        },
        "id": "YfHUyzDkvp2n",
        "outputId": "4b7b4591-e8b1-438a-8aec-5b46ed8f29e5"
      },
      "execution_count": 6,
      "outputs": [
        {
          "output_type": "stream",
          "name": "stdout",
          "text": [
            "tf.Tensor(\n",
            "[[19 22]\n",
            " [43 50]], shape=(2, 2), dtype=int32)\n"
          ]
        }
      ]
    },
    {
      "cell_type": "code",
      "source": [
        "import tensorflow as tf\n",
        "import numpy as np\n",
        "\n",
        "#generate sample data like(y=2x)\n",
        "X=np.array([1,2,3,4,5], dtype=np.float32)\n",
        "Y=np.array([2,4,6,8,10], dtype=np.float32)\n",
        "\n",
        "#define a simple linear model\n",
        "model=tf.keras.Sequential([tf.keras.layers.Dense(units=1, input_shape=[1])])\n",
        "\n",
        "#compile the model with optimizer and loss function\n",
        "model.compile(optimizer='sgd', loss='mean_squared_error')\n",
        "\n",
        "#train the model\n",
        "model.fit(X,Y,epochs=500, verbose=0)\n",
        "\n",
        "#make a prediction\n",
        "new_input=np.array([6], dtype=np.float32)\n",
        "prediction=model.predict(new_input)\n",
        "print(prediction)"
      ],
      "metadata": {
        "colab": {
          "base_uri": "https://localhost:8080/"
        },
        "id": "uVXmPkCZ3cyC",
        "outputId": "a01546bb-bdfa-4f35-c6d0-c6a25abb0fc9"
      },
      "execution_count": 12,
      "outputs": [
        {
          "output_type": "stream",
          "name": "stdout",
          "text": [
            "\u001b[1m1/1\u001b[0m \u001b[32m━━━━━━━━━━━━━━━━━━━━\u001b[0m\u001b[37m\u001b[0m \u001b[1m0s\u001b[0m 49ms/step\n",
            "[[11.919697]]\n"
          ]
        }
      ]
    }
  ]
}